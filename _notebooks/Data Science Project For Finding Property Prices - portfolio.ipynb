{
 "cells": [
  {
   "cell_type": "markdown",
   "id": "9032291c",
   "metadata": {},
   "source": [
    "# Data Science Project For Properties - Cleaning, Visualization on a Real Map, Average Price Property Finder and a Pinch of Machine Learning\n",
    "\n",
    "> This Data Science project I made as a course project for SoftUni. I have used a DataFrame from Kaggle that has many houses in California.I cleaned the data using multiple techniques and made plenty of visualizations on interactive maps so we can see what we are working with. In conclusion we can use this Jupyter Notebook to find a house that we are looking to buy depending on the area, address, number of amenities, price, number of rooms and many more.\n",
    "In addition to this I have used Machine Learning Supervised Learning Classification algorithm 'Linear Discriminant Analysis', K-Nearest Neighbors and Train Test Split to analyze the data even further.\n",
    "\n",
    "- toc: false\n",
    "- badges: true\n",
    "- comments: true\n",
    "- categories: [Data Science, Data Visualization, Data Tidying and Cleaning, Pandas, Folium, K-NN, Machine Learning]\n",
    "- image: images/ApproximateHousePrice.png"
   ]
  },
  {
   "cell_type": "markdown",
   "id": "953b6df6",
   "metadata": {},
   "source": [
    "#### The price of a property depends on many indicators, some of them are: location, size, amenities, access to facilities and many more. In this Jupyter Notebook you can see how I managed to find an average price of a house in a given address.\n",
    "#### In the following Jupyter Notebook link you can see the code and interactive visualizations."
   ]
  },
  {
   "cell_type": "markdown",
   "id": "2ffcca90",
   "metadata": {},
   "source": [
    "#### Because the visualizations do not load properly here please use the following link below.\n",
    "#### It will use my repository in Github and will generate the project:"
   ]
  },
  {
   "cell_type": "markdown",
   "id": "9c2b4fa9",
   "metadata": {},
   "source": [
    "#### https://nbviewer.org/github/mrt5010v/Data-Science-Project-For-Finding-Property-Prices/blob/main/Approximate%20house%20price%20finder.ipynb"
   ]
  },
  {
   "cell_type": "markdown",
   "id": "69edc0c7",
   "metadata": {},
   "source": [
    "#### You can modify the code with Binder as well"
   ]
  }
 ],
 "metadata": {
  "kernelspec": {
   "display_name": "geo_env",
   "language": "python",
   "name": "geo_env"
  },
  "language_info": {
   "codemirror_mode": {
    "name": "ipython",
    "version": 3
   },
   "file_extension": ".py",
   "mimetype": "text/x-python",
   "name": "python",
   "nbconvert_exporter": "python",
   "pygments_lexer": "ipython3",
   "version": "3.9.6"
  }
 },
 "nbformat": 4,
 "nbformat_minor": 5
}
