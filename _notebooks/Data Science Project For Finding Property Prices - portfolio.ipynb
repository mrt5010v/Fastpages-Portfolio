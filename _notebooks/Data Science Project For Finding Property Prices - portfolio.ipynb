{
 "cells": [
  {
   "cell_type": "markdown",
   "id": "8ba788ed",
   "metadata": {},
   "source": [
    "# Data Science Project For Finding Property Prices\n",
    "\n",
    "> This Data Science project I made as a course project for SoftUni. I have used a DataFrame from Kaggle - it has many addresses in California, cleaned the data using multiple techniques and made plenty of visualizations on interactive maps so we can see what we are working with. We can narrow the number of houses using the address, number of amenities, price and many more.\n",
    "In addition to this I have used Machine Learning Supervised Learning Classification algorithm 'Linear Discriminant Analysis', K-Nearest Neighbors and Train Test Split to analyze the data even further.\n",
    "\n",
    "- toc: false\n",
    "- badges: true\n",
    "- comments: true\n",
    "- categories: [Data Science, Data Visualization, Data Tidying and Cleaning, Pandas, Folium]\n",
    "- image: images/ApproximateHousePrice.png"
   ]
  },
  {
   "cell_type": "markdown",
   "id": "047f23b3",
   "metadata": {},
   "source": [
    "#### The price of a property depends on many indicators, some of them are: location, size, amenities, access to facilities and many more. In this Jupyter Notebook you can see how I managed to find an average price of a house in a given address.\n",
    "#### In the following Jupyter Notebook link you can see the code and interactive visualizations."
   ]
  },
  {
   "cell_type": "markdown",
   "id": "77dd8415",
   "metadata": {},
   "source": [
    "#### Because the visualizations do not load properly here please use the following link below.\n",
    "#### It will use my repository in Github and will generate the project:"
   ]
  },
  {
   "cell_type": "markdown",
   "id": "6a9e8260",
   "metadata": {},
   "source": [
    "#### https://nbviewer.org/github/mrt5010v/Data-Science-Project-For-Finding-Property-Prices/blob/main/Approximate%20house%20price%20finder.ipynb"
   ]
  },
  {
   "cell_type": "markdown",
   "id": "a5f2fc3c",
   "metadata": {},
   "source": [
    "#### You can modify the code with Binder as well"
   ]
  }
 ],
 "metadata": {
  "kernelspec": {
   "display_name": "geo_env",
   "language": "python",
   "name": "geo_env"
  },
  "language_info": {
   "codemirror_mode": {
    "name": "ipython",
    "version": 3
   },
   "file_extension": ".py",
   "mimetype": "text/x-python",
   "name": "python",
   "nbconvert_exporter": "python",
   "pygments_lexer": "ipython3",
   "version": "3.9.6"
  }
 },
 "nbformat": 4,
 "nbformat_minor": 5
}
